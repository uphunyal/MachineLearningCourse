{
 "cells": [
  {
   "cell_type": "markdown",
   "metadata": {},
   "source": [
    "# Classification"
   ]
  },
  {
   "cell_type": "code",
   "execution_count": 37,
   "metadata": {},
   "outputs": [],
   "source": [
    "import numpy as np \n",
    "import pandas as pd \n",
    "from sklearn.model_selection import train_test_split\n",
    "from sklearn.tree import DecisionTreeClassifier\n",
    "from sklearn.metrics import precision_score\n",
    "from sklearn.metrics import recall_score\n",
    "from sklearn.metrics import confusion_matrix\n",
    "from sklearn.metrics import f1_score\n",
    "from sklearn.model_selection import cross_val_predict, KFold\n",
    "from sklearn.metrics import accuracy_score\n",
    "from sklearn.preprocessing import StandardScaler\n",
    "from sklearn import linear_model\n",
    "from sklearn.naive_bayes import GaussianNB\n",
    "from sklearn.ensemble import RandomForestClassifier"
   ]
  },
  {
   "cell_type": "code",
   "execution_count": 38,
   "metadata": {},
   "outputs": [],
   "source": [
    "try:\n",
    "    df = pd.read_csv(\"cleandata.csv\")\n",
    "except FileNotFoundError:\n",
    "    print(\"No such file exists on your current working directory\")"
   ]
  },
  {
   "cell_type": "code",
   "execution_count": 39,
   "metadata": {},
   "outputs": [
    {
     "data": {
      "text/html": [
       "<div>\n",
       "<style scoped>\n",
       "    .dataframe tbody tr th:only-of-type {\n",
       "        vertical-align: middle;\n",
       "    }\n",
       "\n",
       "    .dataframe tbody tr th {\n",
       "        vertical-align: top;\n",
       "    }\n",
       "\n",
       "    .dataframe thead th {\n",
       "        text-align: right;\n",
       "    }\n",
       "</style>\n",
       "<table border=\"1\" class=\"dataframe\">\n",
       "  <thead>\n",
       "    <tr style=\"text-align: right;\">\n",
       "      <th></th>\n",
       "      <th>satisfaction_level</th>\n",
       "      <th>last_evaluation</th>\n",
       "      <th>number_project</th>\n",
       "      <th>average_montly_hours</th>\n",
       "      <th>time_spend_company</th>\n",
       "      <th>work_accident</th>\n",
       "      <th>left</th>\n",
       "      <th>promotion_last_5years</th>\n",
       "      <th>department</th>\n",
       "      <th>salary</th>\n",
       "    </tr>\n",
       "  </thead>\n",
       "  <tbody>\n",
       "    <tr>\n",
       "      <th>0</th>\n",
       "      <td>0.38</td>\n",
       "      <td>0.53</td>\n",
       "      <td>2</td>\n",
       "      <td>157.00</td>\n",
       "      <td>3.00</td>\n",
       "      <td>0</td>\n",
       "      <td>1</td>\n",
       "      <td>0</td>\n",
       "      <td>sales</td>\n",
       "      <td>low</td>\n",
       "    </tr>\n",
       "    <tr>\n",
       "      <th>1</th>\n",
       "      <td>0.80</td>\n",
       "      <td>0.86</td>\n",
       "      <td>5</td>\n",
       "      <td>262.00</td>\n",
       "      <td>6.00</td>\n",
       "      <td>0</td>\n",
       "      <td>1</td>\n",
       "      <td>0</td>\n",
       "      <td>sales</td>\n",
       "      <td>medium</td>\n",
       "    </tr>\n",
       "    <tr>\n",
       "      <th>2</th>\n",
       "      <td>0.11</td>\n",
       "      <td>0.88</td>\n",
       "      <td>7</td>\n",
       "      <td>272.00</td>\n",
       "      <td>4.00</td>\n",
       "      <td>0</td>\n",
       "      <td>1</td>\n",
       "      <td>0</td>\n",
       "      <td>sales</td>\n",
       "      <td>medium</td>\n",
       "    </tr>\n",
       "    <tr>\n",
       "      <th>3</th>\n",
       "      <td>0.72</td>\n",
       "      <td>0.87</td>\n",
       "      <td>5</td>\n",
       "      <td>223.00</td>\n",
       "      <td>5.00</td>\n",
       "      <td>0</td>\n",
       "      <td>1</td>\n",
       "      <td>0</td>\n",
       "      <td>sales</td>\n",
       "      <td>low</td>\n",
       "    </tr>\n",
       "    <tr>\n",
       "      <th>4</th>\n",
       "      <td>0.37</td>\n",
       "      <td>0.52</td>\n",
       "      <td>2</td>\n",
       "      <td>200.51</td>\n",
       "      <td>3.38</td>\n",
       "      <td>0</td>\n",
       "      <td>1</td>\n",
       "      <td>0</td>\n",
       "      <td>sales</td>\n",
       "      <td>low</td>\n",
       "    </tr>\n",
       "  </tbody>\n",
       "</table>\n",
       "</div>"
      ],
      "text/plain": [
       "   satisfaction_level  last_evaluation  number_project  average_montly_hours  \\\n",
       "0                0.38             0.53               2                157.00   \n",
       "1                0.80             0.86               5                262.00   \n",
       "2                0.11             0.88               7                272.00   \n",
       "3                0.72             0.87               5                223.00   \n",
       "4                0.37             0.52               2                200.51   \n",
       "\n",
       "   time_spend_company  work_accident  left  promotion_last_5years department  \\\n",
       "0                3.00              0     1                      0      sales   \n",
       "1                6.00              0     1                      0      sales   \n",
       "2                4.00              0     1                      0      sales   \n",
       "3                5.00              0     1                      0      sales   \n",
       "4                3.38              0     1                      0      sales   \n",
       "\n",
       "   salary  \n",
       "0     low  \n",
       "1  medium  \n",
       "2  medium  \n",
       "3     low  \n",
       "4     low  "
      ]
     },
     "execution_count": 39,
     "metadata": {},
     "output_type": "execute_result"
    }
   ],
   "source": [
    "df.head()"
   ]
  },
  {
   "cell_type": "code",
   "execution_count": 40,
   "metadata": {},
   "outputs": [],
   "source": [
    "# Converting the string values into catagorical values.\n",
    "df['salary'] = df['salary'].astype('category').cat.codes\n",
    "df['department'] = df['department'].astype('category').cat.codes"
   ]
  },
  {
   "cell_type": "code",
   "execution_count": 41,
   "metadata": {},
   "outputs": [],
   "source": [
    "#Separating features and lable.\n",
    "X =df.drop(['left'], axis=1) #X is the feature data\n",
    "y = df['left']       #y is the target data"
   ]
  },
  {
   "cell_type": "code",
   "execution_count": 42,
   "metadata": {},
   "outputs": [
    {
     "data": {
      "text/plain": [
       "satisfaction_level       0.361064\n",
       "number_project           0.184815\n",
       "time_spend_company       0.157006\n",
       "average_montly_hours     0.146170\n",
       "last_evaluation          0.122722\n",
       "department               0.014615\n",
       "salary                   0.007981\n",
       "work_accident            0.004936\n",
       "promotion_last_5years    0.000691\n",
       "dtype: float64"
      ]
     },
     "execution_count": 42,
     "metadata": {},
     "output_type": "execute_result"
    }
   ],
   "source": [
    "#Seeing which feature impacts the most\n",
    "X_train, X_test, y_train, y_test = train_test_split(X, y, test_size=0.25)\n",
    "clf = RandomForestClassifier(n_estimators=100)\n",
    "clf.fit(X_train,y_train)\n",
    "features = pd.Series(clf.feature_importances_,index=X.columns).sort_values(ascending=False)\n",
    "features"
   ]
  },
  {
   "cell_type": "code",
   "execution_count": 43,
   "metadata": {},
   "outputs": [],
   "source": [
    "#Taking account of only top 6 features that played in role whether an employee stayed or left and converting them to numpy array.\n",
    "X= np.array(df.drop(['left','promotion_last_5years', 'work_accident', 'salary'], axis=1))\n",
    "y = np.array(df['left'])  "
   ]
  },
  {
   "cell_type": "code",
   "execution_count": 44,
   "metadata": {},
   "outputs": [
    {
     "data": {
      "text/plain": [
       "array([[-1.02590309, -1.10702002, -1.54204807, -0.90455753, -0.28192698,\n",
       "         0.38960187],\n",
       "       [ 0.7104694 ,  0.85003893,  1.02178113,  1.27827112,  1.94353528,\n",
       "         0.38960187],\n",
       "       [-2.14214254,  0.96864856,  2.73100059,  1.48615957,  0.45989377,\n",
       "         0.38960187],\n",
       "       ...,\n",
       "       [ 1.08254922,  0.96864856,  1.02178113,  0.57145041,  1.20171452,\n",
       "         0.73527238],\n",
       "       [ 0.54510059,  0.67212448,  1.87639086,  1.9227253 ,  1.94353528,\n",
       "         0.73527238],\n",
       "       [-1.06724529, -1.4035441 , -1.54204807, -0.842191  , -0.28192698,\n",
       "         0.73527238]])"
      ]
     },
     "execution_count": 44,
     "metadata": {},
     "output_type": "execute_result"
    }
   ],
   "source": [
    "# Feature scaling\n",
    "scaler = StandardScaler()\n",
    "scaler.fit(X)\n",
    "\n",
    "X= scaler.transform(X)\n",
    "X"
   ]
  },
  {
   "cell_type": "code",
   "execution_count": 53,
   "metadata": {},
   "outputs": [],
   "source": [
    "def classification(target, label,test):\n",
    "    \"\"\"Classification using RandomForestClassifier\"\"\"\n",
    "    for value in test:\n",
    "        print(\"The precision score, recall score, confusion matrix and f1 score for {:.0f} - {:.0f} training-test data set are:\" .format(100-100*value, 100*value),\"\\n\")\n",
    "        \n",
    "        #Split the data into train and test set.\n",
    "        X_train, X_test, y_train, y_test = train_test_split(target, label, test_size=value, random_state=42)\n",
    "        \n",
    "        #Shuffling the data.\n",
    "        shuffle_index = np.random.permutation(len(X_train))\n",
    "        X_train, y_train = X_train[shuffle_index], y_train[shuffle_index]\n",
    "        \n",
    "        #Classifier\n",
    "        #clf = linear_model.SGDClassifier(max_iter=1000, tol=1e-3)\n",
    "        #clf = GaussianNB()\n",
    "        clf = RandomForestClassifier(n_estimators=100)\n",
    "        \n",
    "        #clf = DecisionTreeClassifier()\n",
    "        \n",
    "        # 5 fold cross validation\n",
    "        prediction=cross_val_predict(clf,X_train,y_train,cv=5)\n",
    "        \n",
    "        #Accuracy on training set. If satisfied, fit the classifier and predict on test set.\n",
    "        print(\"Accuracy score of training set:{:.3f}\".format( accuracy_score(y_train, prediction)))\n",
    "        \n",
    "        clf.fit(X_train, y_train)\n",
    "        pred= clf.predict(X_test)\n",
    "        \n",
    "        #Accuracy on test set\n",
    "      \n",
    "        print(\"Accuracy score of test set: {:.3f} \".format( accuracy_score(y_test, pred)))\n",
    "        \n",
    "        \n",
    "        #Calculate and print various measures on test set\n",
    "        print(\"\\n Test set: \\n\")\n",
    "        print(\"Precision : {:.3f}\" .format((precision_score(y_test,pred))))\n",
    "        print(\"Recall: {:.3f}\" .format(recall_score(y_test, pred)))\n",
    "        print(\"F1 Score: {:.3f}\".format(f1_score(y_test, pred, average='micro')))\n",
    "        print(\"Confusion matrix:\")\n",
    "        print(confusion_matrix(y_test, pred), \"\\n\")\n",
    "        \n",
    "    "
   ]
  },
  {
   "cell_type": "code",
   "execution_count": 54,
   "metadata": {},
   "outputs": [
    {
     "name": "stdout",
     "output_type": "stream",
     "text": [
      "The precision score, recall score, confusion matrix and f1 score for 85 - 15 training-test data set are: \n",
      "\n",
      "Accuracy score of training set:0.983\n",
      "Accuracy score of test set: 0.982 \n",
      "\n",
      " Test set: \n",
      "\n",
      "Precision : 0.996\n",
      "Recall: 0.897\n",
      "F1 Score: 0.982\n",
      "Confusion matrix:\n",
      "[[1528    1]\n",
      " [  32  278]] \n",
      "\n",
      "The precision score, recall score, confusion matrix and f1 score for 75 - 25 training-test data set are: \n",
      "\n",
      "Accuracy score of training set:0.983\n",
      "Accuracy score of test set: 0.982 \n",
      "\n",
      " Test set: \n",
      "\n",
      "Precision : 0.996\n",
      "Recall: 0.902\n",
      "F1 Score: 0.982\n",
      "Confusion matrix:\n",
      "[[2532    2]\n",
      " [  52  479]] \n",
      "\n",
      "The precision score, recall score, confusion matrix and f1 score for 65 - 35 training-test data set are: \n",
      "\n",
      "Accuracy score of training set:0.983\n",
      "Accuracy score of test set: 0.983 \n",
      "\n",
      " Test set: \n",
      "\n",
      "Precision : 0.991\n",
      "Recall: 0.913\n",
      "F1 Score: 0.983\n",
      "Confusion matrix:\n",
      "[[3540    6]\n",
      " [  65  680]] \n",
      "\n"
     ]
    }
   ],
   "source": [
    "#Invoking the function.\n",
    "\n",
    "a=[0.15,0.25,0.35]\n",
    "classification(X,y,a)"
   ]
  }
 ],
 "metadata": {
  "kernelspec": {
   "display_name": "Python 3",
   "language": "python",
   "name": "python3"
  },
  "language_info": {
   "codemirror_mode": {
    "name": "ipython",
    "version": 3
   },
   "file_extension": ".py",
   "mimetype": "text/x-python",
   "name": "python",
   "nbconvert_exporter": "python",
   "pygments_lexer": "ipython3",
   "version": "3.7.4"
  }
 },
 "nbformat": 4,
 "nbformat_minor": 2
}
